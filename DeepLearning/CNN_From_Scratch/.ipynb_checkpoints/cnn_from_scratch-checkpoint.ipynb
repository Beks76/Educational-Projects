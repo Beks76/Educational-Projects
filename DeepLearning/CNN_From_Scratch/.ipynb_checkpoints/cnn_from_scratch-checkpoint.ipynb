{
 "cells": [
  {
   "cell_type": "markdown",
   "id": "precious-substance",
   "metadata": {},
   "source": [
    "## Implementation of CNN from scratch"
   ]
  },
  {
   "cell_type": "markdown",
   "id": "every-snowboard",
   "metadata": {},
   "source": [
    "<img src='cnn.png'>"
   ]
  },
  {
   "cell_type": "markdown",
   "id": "italic-frame",
   "metadata": {},
   "source": [
    "Firstly I decide to define how to work CNN"
   ]
  },
  {
   "cell_type": "markdown",
   "id": "expired-tribe",
   "metadata": {},
   "source": [
    "<img src='cnn_scratch.png'>"
   ]
  },
  {
   "cell_type": "markdown",
   "id": "nominated-flavor",
   "metadata": {},
   "source": [
    "## Read data"
   ]
  },
  {
   "cell_type": "code",
   "execution_count": 1,
   "id": "intermediate-credit",
   "metadata": {},
   "outputs": [],
   "source": [
    "from tensorflow.keras.datasets import mnist\n",
    "import matplotlib.pyplot as plt \n",
    "import numpy as np"
   ]
  },
  {
   "cell_type": "code",
   "execution_count": 2,
   "id": "opponent-telling",
   "metadata": {},
   "outputs": [],
   "source": [
    "train, test = mnist.load_data()"
   ]
  },
  {
   "cell_type": "code",
   "execution_count": 3,
   "id": "played-antarctica",
   "metadata": {},
   "outputs": [],
   "source": [
    "X_test, y_test = test\n",
    "X_train, y_train = train"
   ]
  },
  {
   "cell_type": "code",
   "execution_count": 4,
   "id": "bearing-naples",
   "metadata": {},
   "outputs": [
    {
     "data": {
      "text/plain": [
       "(28, 28)"
      ]
     },
     "execution_count": 4,
     "metadata": {},
     "output_type": "execute_result"
    }
   ],
   "source": [
    "X_train[0].shape"
   ]
  },
  {
   "cell_type": "code",
   "execution_count": 36,
   "id": "satisfied-stopping",
   "metadata": {},
   "outputs": [
    {
     "name": "stdout",
     "output_type": "stream",
     "text": [
      "image shape:  (28, 28)\n"
     ]
    },
    {
     "data": {
      "image/png": "[encoded data removed]",
      "text/plain": [
       "<Figure size 432x288 with 1 Axes>"
      ]
     },
     "metadata": {
      "needs_background": "light"
     },
     "output_type": "display_data"
    }
   ],
   "source": [
    "img = X_train[0]\n",
    "print('image shape: ',img.shape)\n",
    "plt.imshow(img)\n",
    "plt.show()"
   ]
  },
  {
   "cell_type": "markdown",
   "id": "subsequent-holiday",
   "metadata": {},
   "source": [
    "## CNN"
   ]
  },
  {
   "cell_type": "code",
   "execution_count": 52,
   "id": "fancy-establishment",
   "metadata": {},
   "outputs": [],
   "source": [
    "class conv2d:\n",
    "    \n",
    "    def __init__(self, num_filters, filter_size):\n",
    "        self.num_filters = num_filters\n",
    "        self.filter_size = filter_size\n",
    "        self.filter = np.random.randn(num_filters, filter_size, filter_size) / (filter_size * filter_size) \n",
    "    \n",
    "    def img_region(self, image):\n",
    "        h, w = image.shape\n",
    "        self.image = image\n",
    "        for i in range(h - self.filter_size + 1):\n",
    "            for j in range(w - self.filter_size + 1):\n",
    "                image_reg = image[i : i + self.filter_size, j : j + self.filter_size]\n",
    "                yield image_reg, i, j\n",
    "    \n",
    "    def forward_propagation(self, image):\n",
    "        h, w = image.shape\n",
    "        output = np.zeros((h - self.filter_size + 1, w - self.filter_size + 1, self.num_filters))\n",
    "        for image_reg, i, j in self.img_region(img):\n",
    "            output[i, j] = np.sum(image_reg * self.filter, axis=(1, 2))\n",
    "        return output\n",
    "    \n",
    "    def backward_propagation(self):\n",
    "        pass"
   ]
  },
  {
   "cell_type": "code",
   "execution_count": 49,
   "id": "aggressive-sitting",
   "metadata": {},
   "outputs": [
    {
     "data": {
      "text/plain": [
       "(26, 26, 3)"
      ]
     },
     "execution_count": 49,
     "metadata": {},
     "output_type": "execute_result"
    }
   ],
   "source": [
    "conv = conv2d(3, 3)\n",
    "out = conv.forward_propagation(img)\n",
    "out.shape"
   ]
  },
  {
   "cell_type": "code",
   "execution_count": 50,
   "id": "bronze-diameter",
   "metadata": {},
   "outputs": [
    {
     "name": "stderr",
     "output_type": "stream",
     "text": [
      "Clipping input data to the valid range for imshow with RGB data ([0..1] for floats or [0..255] for integers).\n"
     ]
    },
    {
     "data": {
      "image/png": "[encoded data removed]",
      "text/plain": [
       "<Figure size 432x288 with 1 Axes>"
      ]
     },
     "metadata": {
      "needs_background": "light"
     },
     "output_type": "display_data"
    }
   ],
   "source": [
    "plt.imshow(out)\n",
    "plt.show()"
   ]
  },
  {
   "cell_type": "code",
   "execution_count": 68,
   "id": "floral-slave",
   "metadata": {},
   "outputs": [],
   "source": [
    "class Max_Pool:\n",
    "    \n",
    "    def __init__(self, filter_size):\n",
    "        self.filter_size = filter_size\n",
    "    \n",
    "    def img_region(self, image):\n",
    "        n_h = image.shape[0] // self.filter_size\n",
    "        n_w = image.shape[1] // self.filter_size\n",
    "        self.image = image\n",
    "        \n",
    "        for i in range(n_h):\n",
    "            for j in range(n_w):\n",
    "                image_reg = image[(i * self.filter_size) : (i * self.filter_size + self.filter_size), (j * self.filter_size): (j * self.filter_size + self.filter_size)]\n",
    "                yield image_reg, i, j\n",
    "\n",
    "    def forward_propagation(self, image):\n",
    "        h, w, num_filters = image.shape\n",
    "        output = np.zeros((h // self.filter_size, w // self.filter_size, num_filters))\n",
    "        for image_reg, i, j in self.img_region(image):\n",
    "            output[i, j] = np.amax(image_reg, axis = (0, 1))\n",
    "        return output\n",
    "        \n",
    "    def backward_propagation(self):\n",
    "        pass"
   ]
  },
  {
   "cell_type": "code",
   "execution_count": 69,
   "id": "coastal-heater",
   "metadata": {},
   "outputs": [
    {
     "data": {
      "text/plain": [
       "(6, 6, 3)"
      ]
     },
     "execution_count": 69,
     "metadata": {},
     "output_type": "execute_result"
    }
   ],
   "source": [
    "pooling = Max_Pool(4)\n",
    "output = pooling.forward_propagation(out)\n",
    "output.shape"
   ]
  },
  {
   "cell_type": "code",
   "execution_count": 70,
   "id": "nervous-replacement",
   "metadata": {},
   "outputs": [
    {
     "name": "stderr",
     "output_type": "stream",
     "text": [
      "Clipping input data to the valid range for imshow with RGB data ([0..1] for floats or [0..255] for integers).\n"
     ]
    },
    {
     "data": {
      "image/png": "[encoded data removed]",
      "text/plain": [
       "<Figure size 432x288 with 1 Axes>"
      ]
     },
     "metadata": {
      "needs_background": "light"
     },
     "output_type": "display_data"
    }
   ],
   "source": [
    "plt.imshow(output)\n",
    "plt.show()"
   ]
  },
  {
   "cell_type": "code",
   "execution_count": null,
   "id": "false-husband",
   "metadata": {},
   "outputs": [],
   "source": [
    "plt.imshow(out)\n",
    "plt.show()"
   ]
  }
 ],
 "metadata": {
  "kernelspec": {
   "display_name": "Python 3",
   "language": "python",
   "name": "python3"
  },
  "language_info": {
   "codemirror_mode": {
    "name": "ipython",
    "version": 3
   },
   "file_extension": ".py",
   "mimetype": "text/x-python",
   "name": "python",
   "nbconvert_exporter": "python",
   "pygments_lexer": "ipython3",
   "version": "3.7.7"
  }
 },
 "nbformat": 4,
 "nbformat_minor": 5
}
