{
 "cells": [
  {
   "cell_type": "markdown",
   "id": "precious-substance",
   "metadata": {},
   "source": [
    "## Implementation of CNN from scratch"
   ]
  },
  {
   "cell_type": "markdown",
   "id": "every-snowboard",
   "metadata": {},
   "source": [
    "<img src='cnn.png'>"
   ]
  },
  {
   "cell_type": "markdown",
   "id": "italic-frame",
   "metadata": {},
   "source": [
    "Firstly I decide to define how to work CNN"
   ]
  },
  {
   "cell_type": "markdown",
   "id": "expired-tribe",
   "metadata": {},
   "source": [
    "<img src='cnn_scratch.png'>"
   ]
  },
  {
   "cell_type": "markdown",
   "id": "nominated-flavor",
   "metadata": {},
   "source": [
    "## Read data"
   ]
  },
  {
   "cell_type": "code",
   "execution_count": 70,
   "id": "intermediate-credit",
   "metadata": {},
   "outputs": [],
   "source": [
    "from tensorflow.keras.datasets import mnist\n",
    "import matplotlib.pyplot as plt \n",
    "import numpy as np"
   ]
  },
  {
   "cell_type": "code",
   "execution_count": 71,
   "id": "opponent-telling",
   "metadata": {},
   "outputs": [],
   "source": [
    "train, test = mnist.load_data()"
   ]
  },
  {
   "cell_type": "code",
   "execution_count": 72,
   "id": "played-antarctica",
   "metadata": {},
   "outputs": [
    {
     "data": {
      "text/plain": [
       "(60000, 28, 28)"
      ]
     },
     "execution_count": 72,
     "metadata": {},
     "output_type": "execute_result"
    }
   ],
   "source": [
    "X_test, y_test = test\n",
    "X_train, y_train = train\n",
    "\n",
    "X_train.shape"
   ]
  },
  {
   "cell_type": "code",
   "execution_count": 73,
   "id": "bearing-naples",
   "metadata": {},
   "outputs": [
    {
     "data": {
      "text/plain": [
       "(28, 28)"
      ]
     },
     "execution_count": 73,
     "metadata": {},
     "output_type": "execute_result"
    }
   ],
   "source": [
    "X_train[0].shape"
   ]
  },
  {
   "cell_type": "code",
   "execution_count": 74,
   "id": "satisfied-stopping",
   "metadata": {},
   "outputs": [
    {
     "name": "stdout",
     "output_type": "stream",
     "text": [
      "image shape:  (28, 28)\n"
     ]
    },
    {
     "data": {
      "image/png": "[encoded data removed]",
      "text/plain": [
       "<Figure size 432x288 with 1 Axes>"
      ]
     },
     "metadata": {
      "needs_background": "light"
     },
     "output_type": "display_data"
    }
   ],
   "source": [
    "img = X_train[np.random.randint(5999)]\n",
    "print('image shape: ',img.shape)\n",
    "plt.imshow(img)\n",
    "plt.show()"
   ]
  },
  {
   "cell_type": "markdown",
   "id": "subsequent-holiday",
   "metadata": {},
   "source": [
    "## CNN"
   ]
  },
  {
   "cell_type": "code",
   "execution_count": 75,
   "id": "fancy-establishment",
   "metadata": {},
   "outputs": [],
   "source": [
    "class conv2d:\n",
    "    \n",
    "    def __init__(self, num_filters, filter_size):\n",
    "        self.num_filters = num_filters\n",
    "        self.filter_size = filter_size\n",
    "        self.filter = np.random.randn(num_filters, filter_size, filter_size) / (filter_size * filter_size) \n",
    "    \n",
    "    def img_region(self, image):\n",
    "        h, w = image.shape\n",
    "        self.image = image\n",
    "        for i in range(h - self.filter_size + 1):\n",
    "            for j in range(w - self.filter_size + 1):\n",
    "                image_reg = image[i : i + self.filter_size, j : j + self.filter_size]\n",
    "                yield image_reg, i, j\n",
    "    \n",
    "    def forward_propagation(self, image):\n",
    "        h, w = image.shape\n",
    "        output = np.zeros((h - self.filter_size + 1, w - self.filter_size + 1, self.num_filters))\n",
    "        for image_reg, i, j in self.img_region(img):\n",
    "            output[i, j] = np.sum(image_reg * self.filter, axis=(1, 2))\n",
    "        return output\n",
    "    \n",
    "    def backward_propagation(self):\n",
    "        pass"
   ]
  },
  {
   "cell_type": "code",
   "execution_count": 76,
   "id": "aggressive-sitting",
   "metadata": {},
   "outputs": [
    {
     "data": {
      "text/plain": [
       "(26, 26, 3)"
      ]
     },
     "execution_count": 76,
     "metadata": {},
     "output_type": "execute_result"
    }
   ],
   "source": [
    "conv = conv2d(3, 3)\n",
    "out = conv.forward_propagation(img)\n",
    "out.shape"
   ]
  },
  {
   "cell_type": "code",
   "execution_count": 77,
   "id": "bronze-diameter",
   "metadata": {},
   "outputs": [
    {
     "name": "stderr",
     "output_type": "stream",
     "text": [
      "Clipping input data to the valid range for imshow with RGB data ([0..1] for floats or [0..255] for integers).\n"
     ]
    },
    {
     "data": {
      "image/png": "[encoded data removed]",
      "text/plain": [
       "<Figure size 432x288 with 1 Axes>"
      ]
     },
     "metadata": {
      "needs_background": "light"
     },
     "output_type": "display_data"
    }
   ],
   "source": [
    "plt.imshow(out)\n",
    "plt.show()"
   ]
  },
  {
   "cell_type": "code",
   "execution_count": 78,
   "id": "floral-slave",
   "metadata": {},
   "outputs": [],
   "source": [
    "class Max_Pool:\n",
    "    \n",
    "    def __init__(self, filter_size):\n",
    "        self.filter_size = filter_size\n",
    "    \n",
    "    def img_region(self, image):\n",
    "        n_h = image.shape[0] // self.filter_size\n",
    "        n_w = image.shape[1] // self.filter_size\n",
    "        self.image = image\n",
    "        \n",
    "        for i in range(n_h):\n",
    "            for j in range(n_w):\n",
    "                image_reg = image[(i * self.filter_size) : (i * self.filter_size + self.filter_size), (j * self.filter_size): (j * self.filter_size + self.filter_size)]\n",
    "                yield image_reg, i, j\n",
    "\n",
    "    def forward_propagation(self, image):\n",
    "        h, w, num_filters = image.shape\n",
    "        output = np.zeros((h // self.filter_size, w // self.filter_size, num_filters))\n",
    "        for image_reg, i, j in self.img_region(image):\n",
    "            output[i, j] = np.amax(image_reg, axis = (0, 1))\n",
    "        return output\n",
    "        \n",
    "    def backward_propagation(self):\n",
    "        pass"
   ]
  },
  {
   "cell_type": "code",
   "execution_count": 79,
   "id": "coastal-heater",
   "metadata": {},
   "outputs": [
    {
     "name": "stdout",
     "output_type": "stream",
     "text": [
      "(13, 13, 3)\n"
     ]
    }
   ],
   "source": [
    "pooling = Max_Pool(2)\n",
    "output = pooling.forward_propagation(out)\n",
    "print(output.shape)\n",
    "n, h, w = output.shape[0], output.shape[1], output.shape[2]"
   ]
  },
  {
   "cell_type": "code",
   "execution_count": 80,
   "id": "nervous-replacement",
   "metadata": {},
   "outputs": [
    {
     "name": "stderr",
     "output_type": "stream",
     "text": [
      "Clipping input data to the valid range for imshow with RGB data ([0..1] for floats or [0..255] for integers).\n"
     ]
    },
    {
     "data": {
      "image/png": "[encoded data removed]",
      "text/plain": [
       "<Figure size 432x288 with 1 Axes>"
      ]
     },
     "metadata": {
      "needs_background": "light"
     },
     "output_type": "display_data"
    }
   ],
   "source": [
    "plt.imshow(output)\n",
    "plt.show()"
   ]
  },
  {
   "cell_type": "code",
   "execution_count": 81,
   "id": "false-husband",
   "metadata": {},
   "outputs": [],
   "source": [
    "class ReLu:\n",
    "    \n",
    "    def __init__(self, input_items, relu_item):\n",
    "        self.weight = np.random.randn(input_items, relu_item) / input_items\n",
    "        self.bias = np.zeros(relu_item)\n",
    "        \n",
    "    def forward_propagation(self, image):\n",
    "        relu_res = []\n",
    "        image_modified = image.flatten()\n",
    "        output_val = np.dot(image_modified, self.weight) + self.bias\n",
    "        out = [max(0, x) for x in output_val]\n",
    "        relu_res.append(out)\n",
    "        return np.array(relu_res)\n",
    "    \n",
    "    def backward_propagation():\n",
    "        pass"
   ]
  },
  {
   "cell_type": "code",
   "execution_count": 82,
   "id": "decent-heritage",
   "metadata": {},
   "outputs": [
    {
     "name": "stdout",
     "output_type": "stream",
     "text": [
      "[[0.10008678 1.60298124 1.32552213 0.         0.         0.\n",
      "  0.         0.         0.         0.33295579]]\n"
     ]
    }
   ],
   "source": [
    "outputs = 10\n",
    "relu = ReLu(n*h*w, outputs)\n",
    "out3 = relu.forward_propagation(output)\n",
    "print(out3)"
   ]
  },
  {
   "cell_type": "markdown",
   "id": "bigger-question",
   "metadata": {},
   "source": [
    "Now my algorithm doesn't have optimization (gradients etc.) \n",
    "I'll implement backward_propagation as soon as possible.<br>\n",
    "<a href='https://github.com/Beks76/Educational-Projects/tree/main/DeepLearning/CNN_From_Scratch'>github</a>"
   ]
  },
  {
   "cell_type": "code",
   "execution_count": null,
   "id": "optical-portland",
   "metadata": {},
   "outputs": [],
   "source": []
  }
 ],
 "metadata": {
  "kernelspec": {
   "display_name": "Python 3",
   "language": "python",
   "name": "python3"
  },
  "language_info": {
   "codemirror_mode": {
    "name": "ipython",
    "version": 3
   },
   "file_extension": ".py",
   "mimetype": "text/x-python",
   "name": "python",
   "nbconvert_exporter": "python",
   "pygments_lexer": "ipython3",
   "version": "3.7.7"
  }
 },
 "nbformat": 4,
 "nbformat_minor": 5
}
