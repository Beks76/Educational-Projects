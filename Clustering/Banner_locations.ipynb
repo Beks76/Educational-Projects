{
 "cells": [
  {
   "cell_type": "markdown",
   "id": "mexican-tournament",
   "metadata": {},
   "source": [
    "### Task <br>\n",
    "Let's imagine that the international cruise agency Carnival Cruise Line decided to advertise itself with the help of banners and turned to you for this. To test whether such banners are of great use, only 20 of them will be placed around the world. You need to choose 20 such locations for placement, so that the benefits are great and continue to cooperate with you. The agency is large and has several offices around the world. It wants to tie banners near these offices - it is easier to negotiate and check the result. Also, these places should be popular with tourists."
   ]
  },
  {
   "cell_type": "markdown",
   "id": "atmospheric-output",
   "metadata": {},
   "source": [
    "### Read data"
   ]
  },
  {
   "cell_type": "code",
   "execution_count": 15,
   "id": "dying-flour",
   "metadata": {},
   "outputs": [],
   "source": [
    "import csv\n",
    "\n",
    "import pandas as pd\n",
    "import numpy as np\n",
    "from matplotlib import pyplot as plt\n",
    "\n",
    "from mpl_toolkits.basemap import Basemap"
   ]
  },
  {
   "cell_type": "code",
   "execution_count": 2,
   "id": "knowing-decision",
   "metadata": {},
   "outputs": [],
   "source": [
    "with open('data/checkins.dat') as file:\n",
    "    data = []\n",
    "    for line in file:\n",
    "        new_line = [x.strip() for x in line.split('|')]\n",
    "        if len(new_line) == 6:\n",
    "            data.append(new_line)"
   ]
  },
  {
   "cell_type": "code",
   "execution_count": 3,
   "id": "flying-peeing",
   "metadata": {},
   "outputs": [],
   "source": [
    "with open('data/checkins.csv', 'w') as file:\n",
    "    file_writer = csv.writer(file)\n",
    "    file_writer.writerows(data)"
   ]
  },
  {
   "cell_type": "code",
   "execution_count": 4,
   "id": "played-female",
   "metadata": {},
   "outputs": [
    {
     "data": {
      "text/html": [
       "<div>\n",
       "<style scoped>\n",
       "    .dataframe tbody tr th:only-of-type {\n",
       "        vertical-align: middle;\n",
       "    }\n",
       "\n",
       "    .dataframe tbody tr th {\n",
       "        vertical-align: top;\n",
       "    }\n",
       "\n",
       "    .dataframe thead th {\n",
       "        text-align: right;\n",
       "    }\n",
       "</style>\n",
       "<table border=\"1\" class=\"dataframe\">\n",
       "  <thead>\n",
       "    <tr style=\"text-align: right;\">\n",
       "      <th></th>\n",
       "      <th>id</th>\n",
       "      <th>user_id</th>\n",
       "      <th>venue_id</th>\n",
       "      <th>latitude</th>\n",
       "      <th>longitude</th>\n",
       "      <th>created_at</th>\n",
       "    </tr>\n",
       "  </thead>\n",
       "  <tbody>\n",
       "    <tr>\n",
       "      <th>0</th>\n",
       "      <td>984301</td>\n",
       "      <td>2041916</td>\n",
       "      <td>5222</td>\n",
       "      <td>NaN</td>\n",
       "      <td>NaN</td>\n",
       "      <td>2012-04-21 17:39:01</td>\n",
       "    </tr>\n",
       "    <tr>\n",
       "      <th>1</th>\n",
       "      <td>984222</td>\n",
       "      <td>15824</td>\n",
       "      <td>5222</td>\n",
       "      <td>38.895112</td>\n",
       "      <td>-77.036366</td>\n",
       "      <td>2012-04-21 17:43:47</td>\n",
       "    </tr>\n",
       "    <tr>\n",
       "      <th>2</th>\n",
       "      <td>984315</td>\n",
       "      <td>1764391</td>\n",
       "      <td>5222</td>\n",
       "      <td>NaN</td>\n",
       "      <td>NaN</td>\n",
       "      <td>2012-04-21 17:37:18</td>\n",
       "    </tr>\n",
       "    <tr>\n",
       "      <th>3</th>\n",
       "      <td>984234</td>\n",
       "      <td>44652</td>\n",
       "      <td>5222</td>\n",
       "      <td>33.800745</td>\n",
       "      <td>-84.410520</td>\n",
       "      <td>2012-04-21 17:43:43</td>\n",
       "    </tr>\n",
       "    <tr>\n",
       "      <th>4</th>\n",
       "      <td>984249</td>\n",
       "      <td>2146840</td>\n",
       "      <td>5222</td>\n",
       "      <td>NaN</td>\n",
       "      <td>NaN</td>\n",
       "      <td>2012-04-21 17:42:58</td>\n",
       "    </tr>\n",
       "  </tbody>\n",
       "</table>\n",
       "</div>"
      ],
      "text/plain": [
       "       id  user_id  venue_id   latitude  longitude           created_at\n",
       "0  984301  2041916      5222        NaN        NaN  2012-04-21 17:39:01\n",
       "1  984222    15824      5222  38.895112 -77.036366  2012-04-21 17:43:47\n",
       "2  984315  1764391      5222        NaN        NaN  2012-04-21 17:37:18\n",
       "3  984234    44652      5222  33.800745 -84.410520  2012-04-21 17:43:43\n",
       "4  984249  2146840      5222        NaN        NaN  2012-04-21 17:42:58"
      ]
     },
     "execution_count": 4,
     "metadata": {},
     "output_type": "execute_result"
    }
   ],
   "source": [
    "dataset = pd.read_csv('data/checkins.csv')\n",
    "dataset.head()"
   ]
  },
  {
   "cell_type": "markdown",
   "id": "automotive-relay",
   "metadata": {},
   "source": [
    "### Data Preprocessing"
   ]
  },
  {
   "cell_type": "code",
   "execution_count": 5,
   "id": "informal-reggae",
   "metadata": {},
   "outputs": [
    {
     "data": {
      "text/plain": [
       "(1021966, 6)"
      ]
     },
     "execution_count": 5,
     "metadata": {},
     "output_type": "execute_result"
    }
   ],
   "source": [
    "dataset.shape"
   ]
  },
  {
   "cell_type": "code",
   "execution_count": 6,
   "id": "structured-korean",
   "metadata": {},
   "outputs": [
    {
     "name": "stdout",
     "output_type": "stream",
     "text": [
      "Wall time: 490 ms\n"
     ]
    }
   ],
   "source": [
    "%%time\n",
    "dataset.dropna(inplace=True)"
   ]
  },
  {
   "cell_type": "code",
   "execution_count": 7,
   "id": "french-start",
   "metadata": {},
   "outputs": [
    {
     "data": {
      "text/plain": [
       "(396634, 6)"
      ]
     },
     "execution_count": 7,
     "metadata": {},
     "output_type": "execute_result"
    }
   ],
   "source": [
    "dataset.shape"
   ]
  },
  {
   "cell_type": "code",
   "execution_count": 8,
   "id": "built-finnish",
   "metadata": {},
   "outputs": [
    {
     "data": {
      "text/html": [
       "<div>\n",
       "<style scoped>\n",
       "    .dataframe tbody tr th:only-of-type {\n",
       "        vertical-align: middle;\n",
       "    }\n",
       "\n",
       "    .dataframe tbody tr th {\n",
       "        vertical-align: top;\n",
       "    }\n",
       "\n",
       "    .dataframe thead th {\n",
       "        text-align: right;\n",
       "    }\n",
       "</style>\n",
       "<table border=\"1\" class=\"dataframe\">\n",
       "  <thead>\n",
       "    <tr style=\"text-align: right;\">\n",
       "      <th></th>\n",
       "      <th>id</th>\n",
       "      <th>user_id</th>\n",
       "      <th>venue_id</th>\n",
       "      <th>latitude</th>\n",
       "      <th>longitude</th>\n",
       "      <th>created_at</th>\n",
       "    </tr>\n",
       "  </thead>\n",
       "  <tbody>\n",
       "    <tr>\n",
       "      <th>1021959</th>\n",
       "      <td>955561</td>\n",
       "      <td>626076</td>\n",
       "      <td>20073</td>\n",
       "      <td>40.850100</td>\n",
       "      <td>-73.866246</td>\n",
       "      <td>2012-04-13 09:56:48</td>\n",
       "    </tr>\n",
       "    <tr>\n",
       "      <th>1021960</th>\n",
       "      <td>955892</td>\n",
       "      <td>674797</td>\n",
       "      <td>2297</td>\n",
       "      <td>33.748995</td>\n",
       "      <td>-84.387982</td>\n",
       "      <td>2012-04-13 10:56:03</td>\n",
       "    </tr>\n",
       "    <tr>\n",
       "      <th>1021961</th>\n",
       "      <td>956377</td>\n",
       "      <td>845102</td>\n",
       "      <td>11195</td>\n",
       "      <td>42.765366</td>\n",
       "      <td>-71.467566</td>\n",
       "      <td>2012-04-13 12:08:45</td>\n",
       "    </tr>\n",
       "    <tr>\n",
       "      <th>1021962</th>\n",
       "      <td>956119</td>\n",
       "      <td>1139114</td>\n",
       "      <td>29488</td>\n",
       "      <td>42.439479</td>\n",
       "      <td>-83.743830</td>\n",
       "      <td>2012-04-13 11:36:44</td>\n",
       "    </tr>\n",
       "    <tr>\n",
       "      <th>1021964</th>\n",
       "      <td>956733</td>\n",
       "      <td>960666</td>\n",
       "      <td>60</td>\n",
       "      <td>42.331427</td>\n",
       "      <td>-83.045754</td>\n",
       "      <td>2012-04-13 21:56:19</td>\n",
       "    </tr>\n",
       "  </tbody>\n",
       "</table>\n",
       "</div>"
      ],
      "text/plain": [
       "             id  user_id  venue_id   latitude  longitude           created_at\n",
       "1021959  955561   626076     20073  40.850100 -73.866246  2012-04-13 09:56:48\n",
       "1021960  955892   674797      2297  33.748995 -84.387982  2012-04-13 10:56:03\n",
       "1021961  956377   845102     11195  42.765366 -71.467566  2012-04-13 12:08:45\n",
       "1021962  956119  1139114     29488  42.439479 -83.743830  2012-04-13 11:36:44\n",
       "1021964  956733   960666        60  42.331427 -83.045754  2012-04-13 21:56:19"
      ]
     },
     "execution_count": 8,
     "metadata": {},
     "output_type": "execute_result"
    }
   ],
   "source": [
    "dataset.tail()"
   ]
  },
  {
   "cell_type": "markdown",
   "id": "sticky-title",
   "metadata": {},
   "source": [
    "Now we need to cluster these coordinates in order to identify the centers of tourist congestion. Since banners have a relatively small area of ​​action, we need an algorithm that allows us to limit the cluster size and does not depend on the number of clusters.\n",
    "\n",
    "This task is a good reason to get acquainted with the MeanShift algorithm, which we bypassed in the main part of the lectures. Its description, if desired, can be viewed in the sklearn user guide, and a little later an additional video will appear with an overview of this and some other clustering algorithms. Use MeanShift, specifying bandwidth = 0.1, which in terms of degrees to meters ranges from about 5 to 10 km at mid-latitudes.\n",
    "\n",
    "Note: on 396634 rows, clustering will take a long time. It is not forbidden to be very patient - the result will only improve. But in order to pass the task, you need a subset of the first 100 thousand lines. This is a compromise between quality and time spent. It takes about an hour to train the algorithm on the entire dataset, and about 2 minutes for 100,000 rows, but this is enough to get correct results.\n",
    "\n",
    "Some of the resulting clusters contain too few points - such clusters are not interesting to advertisers. Therefore, it is necessary to determine which of the clusters contain, say, more than 15 elements. The centers of these clusters are optimal for placement."
   ]
  },
  {
   "cell_type": "markdown",
   "id": "indoor-annual",
   "metadata": {},
   "source": [
    "### Clustering"
   ]
  },
  {
   "cell_type": "code",
   "execution_count": 9,
   "id": "smaller-assumption",
   "metadata": {},
   "outputs": [],
   "source": [
    "import sklearn.cluster as cluster"
   ]
  },
  {
   "cell_type": "code",
   "execution_count": 10,
   "id": "circular-terminology",
   "metadata": {},
   "outputs": [
    {
     "data": {
      "text/plain": [
       "(100000, 2)"
      ]
     },
     "execution_count": 10,
     "metadata": {},
     "output_type": "execute_result"
    }
   ],
   "source": [
    "X = dataset.iloc[:100000, 3:5].values\n",
    "X.shape"
   ]
  },
  {
   "cell_type": "markdown",
   "id": "bridal-connectivity",
   "metadata": {},
   "source": [
    "#### MeanShift cluster"
   ]
  },
  {
   "cell_type": "code",
   "execution_count": 11,
   "id": "fatty-borough",
   "metadata": {},
   "outputs": [],
   "source": [
    "ms_cluster = cluster.MeanShift(bandwidth=0.1)"
   ]
  },
  {
   "cell_type": "code",
   "execution_count": 12,
   "id": "through-local",
   "metadata": {},
   "outputs": [
    {
     "name": "stdout",
     "output_type": "stream",
     "text": [
      "Wall time: 3min 33s\n"
     ]
    },
    {
     "data": {
      "text/plain": [
       "MeanShift(bandwidth=0.1)"
      ]
     },
     "execution_count": 12,
     "metadata": {},
     "output_type": "execute_result"
    }
   ],
   "source": [
    "%%time\n",
    "ms_cluster.fit(X)"
   ]
  },
  {
   "cell_type": "code",
   "execution_count": 69,
   "id": "hairy-shame",
   "metadata": {},
   "outputs": [
    {
     "data": {
      "text/plain": [
       "array([[  38.8951118,  -77.0363658],\n",
       "       [  33.800745 ,  -84.41052  ],\n",
       "       [  45.5234515, -122.6762071],\n",
       "       ...,\n",
       "       [  29.7628844,  -95.3830615],\n",
       "       [  32.802955 ,  -96.769923 ],\n",
       "       [  37.7749295, -122.4194155]])"
      ]
     },
     "execution_count": 69,
     "metadata": {},
     "output_type": "execute_result"
    }
   ],
   "source": [
    "X"
   ]
  },
  {
   "cell_type": "code",
   "execution_count": 28,
   "id": "objective-suicide",
   "metadata": {},
   "outputs": [],
   "source": [
    "cluster_centers = ms_cluster.cluster_centers_\n",
    "len(cluster_centers)\n",
    "df_centers = pd.DataFrame(cluster_centers, columns = ['lat', 'lon'])\n",
    "\n",
    "labels = ms_cluster.labels_"
   ]
  },
  {
   "cell_type": "code",
   "execution_count": 33,
   "id": "consecutive-adolescent",
   "metadata": {},
   "outputs": [
    {
     "name": "stdout",
     "output_type": "stream",
     "text": [
      "We should select 592 clusters out of 3231\n"
     ]
    }
   ],
   "source": [
    "d = {}\n",
    "for label in labels:\n",
    "    if label not in d.keys():\n",
    "        d[label] = 1\n",
    "    else:\n",
    "        d[label] += 1\n",
    "        \n",
    "count = 0\n",
    "for key in d.keys():\n",
    "    if d[key] > 15:\n",
    "        count += 1\n",
    "print(f\"We should select {count} clusters out of {len(np.unique(labels))}\")"
   ]
  },
  {
   "cell_type": "code",
   "execution_count": 36,
   "id": "infectious-speed",
   "metadata": {},
   "outputs": [],
   "source": [
    "selected_clusters = []\n",
    "for i in range(len(cluster_centers)):\n",
    "    if d[i] > 15:\n",
    "        selected_clusters.append(cluster_centers[i])"
   ]
  },
  {
   "cell_type": "code",
   "execution_count": 37,
   "id": "certain-priest",
   "metadata": {},
   "outputs": [
    {
     "data": {
      "text/plain": [
       "592"
      ]
     },
     "execution_count": 37,
     "metadata": {},
     "output_type": "execute_result"
    }
   ],
   "source": [
    "len(selected_clusters)"
   ]
  },
  {
   "cell_type": "markdown",
   "id": "special-parent",
   "metadata": {},
   "source": [
    "As we remember, 20 banners should be placed near the company's offices following this office addresses:<br>\n",
    "33.751277, -118.188740 (Los Angeles)<br>\n",
    "25.867736, -80.324116 (Miami)<br>\n",
    "51.503016, -0.075479 (London)<br>\n",
    "52.378894, 4.885084 (Amsterdam)<br>\n",
    "39.366487, 117.036146 (Beijing)<br>\n",
    "-33.868457, 151.205134 (Sydney)<br>\n",
    "It remains to determine the 20 centers of clusters closest to them. Those. calculate the distance to the nearest office for each point and select the 20 with the lowest value.<br>\n",
    "Note: when calculating distances and in clustering, you can neglect the fact that the Earth is round, since at points located close to each other the error is small, and at other points the value is quite large.<br>\n",
    "\n",
    "To hand over the assignment, select from the resulting 20 centers the one that is least distant from the office nearest to it. The answer in this problem is the latitude and longitude of this center, separated by a space.<br>"
   ]
  },
  {
   "cell_type": "code",
   "execution_count": 42,
   "id": "manufactured-nursing",
   "metadata": {},
   "outputs": [
    {
     "data": {
      "text/plain": [
       "[33.751277, -118.18874]"
      ]
     },
     "execution_count": 42,
     "metadata": {},
     "output_type": "execute_result"
    }
   ],
   "source": [
    "offices = []\n",
    "offices.append([33.751277, -118.188740])\n",
    "offices.append([25.867736, -80.324116])\n",
    "offices.append([51.503016, -0.075479])\n",
    "offices.append([52.378894, 4.885084])\n",
    "offices.append([39.366487, 117.036146])\n",
    "offices.append([-33.868457, 151.205134])\n",
    "\n",
    "offices[0]"
   ]
  },
  {
   "cell_type": "code",
   "execution_count": 53,
   "id": "different-dynamics",
   "metadata": {},
   "outputs": [],
   "source": [
    "from scipy.spatial import distance\n",
    "def euclidian_distance(office, banner):\n",
    "    dst = distance.euclidean(office, banner)\n",
    "    return dst"
   ]
  },
  {
   "cell_type": "code",
   "execution_count": 64,
   "id": "outdoor-reader",
   "metadata": {},
   "outputs": [],
   "source": [
    "banner_idx = 0\n",
    "office_idx = 0\n",
    "min_ = euclidian_distance(office[0], selected_clusters[0])\n",
    "for o_index, office in enumerate(offices):\n",
    "    for index, banner in enumerate(selected_clusters):\n",
    "        dst = euclidian_distance(office, selected_clusters[index])\n",
    "        if min_ > dst:\n",
    "            min_ = dst\n",
    "            banner_idx = index\n",
    "            office_idx = o_index\n",
    "        "
   ]
  },
  {
   "cell_type": "code",
   "execution_count": 65,
   "id": "mounted-champion",
   "metadata": {},
   "outputs": [
    {
     "name": "stdout",
     "output_type": "stream",
     "text": [
      "Min distance of banner to distance is 0.007834758163107856\n",
      "This is office [-33.868457, 151.205134](Sydney) and banner [-33.86063043 151.20477593]\n"
     ]
    }
   ],
   "source": [
    "print(f\"Min distance of banner to distance is {min_}\\nThis is office {offices[office_idx]}(Sydney) and banner {selected_clusters[banner_idx]}\")"
   ]
  },
  {
   "cell_type": "code",
   "execution_count": 67,
   "id": "polish-gravity",
   "metadata": {},
   "outputs": [],
   "source": [
    "def write_answer(center):\n",
    "    with open(\"1.txt\", \"w\") as f:\n",
    "        f.write(str(center[0]) + ' ' + str(center[1]))"
   ]
  },
  {
   "cell_type": "code",
   "execution_count": 68,
   "id": "marked-marijuana",
   "metadata": {},
   "outputs": [],
   "source": [
    "write_answer(selected_clusters[banner_idx])"
   ]
  },
  {
   "cell_type": "code",
   "execution_count": null,
   "id": "preliminary-prophet",
   "metadata": {},
   "outputs": [],
   "source": []
  }
 ],
 "metadata": {
  "kernelspec": {
   "display_name": "Python 3",
   "language": "python",
   "name": "python3"
  },
  "language_info": {
   "codemirror_mode": {
    "name": "ipython",
    "version": 3
   },
   "file_extension": ".py",
   "mimetype": "text/x-python",
   "name": "python",
   "nbconvert_exporter": "python",
   "pygments_lexer": "ipython3",
   "version": "3.7.7"
  }
 },
 "nbformat": 4,
 "nbformat_minor": 5
}
